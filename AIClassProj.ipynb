{
 "cells": [
  {
   "cell_type": "code",
   "execution_count": 1,
   "id": "87059d23",
   "metadata": {},
   "outputs": [],
   "source": [
    "import pandas as pd\n",
    "import numpy as np\n",
    "import tensorflow as tf\n",
    "from keras.preprocessing.text import Tokenizer\n",
    "from tensorflow import keras\n",
    "from keras.models import Sequential\n",
    "from keras.layers import Dense,Conv1D,MaxPooling1D\n",
    "from keras.layers import LSTM, Dropout, SpatialDropout1D\n",
    "from keras.layers import Bidirectional\n",
    "from keras.layers import Flatten\n",
    "from keras.models  import Model\n",
    "from keras.layers.embeddings import Embedding\n",
    "from keras.preprocessing import sequence\n",
    "from keras.callbacks import ModelCheckpoint"
   ]
  },
  {
   "cell_type": "code",
   "execution_count": 2,
   "id": "9bb67066",
   "metadata": {},
   "outputs": [],
   "source": [
    "df = pd.read_csv('./Tweets.csv')"
   ]
  },
  {
   "cell_type": "code",
   "execution_count": 3,
   "id": "c0ca06a5",
   "metadata": {},
   "outputs": [],
   "source": [
    "def process_data(_df):\n",
    "    print(_df.shape)\n",
    "    df = _df[_df['airline_sentiment'] != 'neutral']\n",
    "    print(df.shape)\n",
    "    df = df[[\"tweet_id\", \"text\", \"airline_sentiment\"]]\n",
    "\n",
    "    df['text'] = df['text'].str.replace('@\\S+', '')\n",
    "    df['airline_sentiment'] = df['airline_sentiment'].map({'negative': 0, 'positive': 1})\n",
    "\n",
    "    return df\n",
    "\n",
    "def split_data(df):\n",
    "    X = df['text'].values\n",
    "    y = df['airline_sentiment'].values\n",
    "\n",
    "    X_train, y_train = X[:int(len(X) * 0.8)], y[:int(len(y) * 0.8)]\n",
    "    X_test, y_test = X[int(len(X) * 0.8):], y[int(len(y) * 0.8):]\n",
    "\n",
    "    return X_train, y_train, X_test, y_test"
   ]
  },
  {
   "cell_type": "code",
   "execution_count": 4,
   "id": "26bc4e42",
   "metadata": {},
   "outputs": [
    {
     "name": "stdout",
     "output_type": "stream",
     "text": [
      "(14640, 15)\n",
      "(11541, 15)\n",
      "X Train:  9232\n",
      "X Test:  2309\n",
      "Shape of X Train:  (9232, 150)\n",
      "Shape of X Test:  (2309, 150)\n"
     ]
    },
    {
     "name": "stderr",
     "output_type": "stream",
     "text": [
      "/var/folders/6f/c18s2hvd7tgbblr1wy3tg8j80000gn/T/ipykernel_13332/1860745224.py:7: FutureWarning: The default value of regex will change from True to False in a future version.\n",
      "  df['text'] = df['text'].str.replace('@\\S+', '')\n"
     ]
    }
   ],
   "source": [
    "df_processed = process_data(df)\n",
    "\n",
    "X_train, y_train, X_test, y_test = split_data(df_processed)\n",
    "\n",
    "tokenizer = Tokenizer()\n",
    "tokenizer.fit_on_texts(X_train)\n",
    "\n",
    "X_train = tokenizer.texts_to_sequences(X_train)\n",
    "X_test = tokenizer.texts_to_sequences(X_test)\n",
    "\n",
    "print(\"X Train: \", len(X_train))\n",
    "print(\"X Test: \", len(X_test))\n",
    "\n",
    "max_len = 150\n",
    "\n",
    "X_train = sequence.pad_sequences(X_train, maxlen=max_len)\n",
    "X_test = sequence.pad_sequences(X_test, maxlen=max_len)\n",
    "\n",
    "print(\"Shape of X Train: \", X_train.shape)\n",
    "print(\"Shape of X Test: \", X_test.shape)"
   ]
  },
  {
   "cell_type": "code",
   "execution_count": 9,
   "id": "73a8b70c",
   "metadata": {},
   "outputs": [],
   "source": [
    "model = Sequential()\n",
    "model.add(Embedding(10000, 150, input_length=150))\n",
    "model.add(Conv1D(filters=32, kernel_size=3, padding='same', activation='relu'))\n",
    "model.add(MaxPooling1D(pool_size=2))\n",
    "#model.add(SpatialDropout1D(0.3))\n",
    "model.add(Bidirectional(LSTM(128, dropout=0.2)))\n",
    "#model.add(Flatten())\n",
    "#model.add(Dense(32, activation='relu'))\n",
    "model.add(Dense(1, activation='sigmoid'))\n",
    "model.compile(loss='binary_crossentropy', optimizer='adam', metrics=['accuracy'])"
   ]
  },
  {
   "cell_type": "code",
   "execution_count": 10,
   "id": "3e7f48c8",
   "metadata": {},
   "outputs": [
    {
     "name": "stdout",
     "output_type": "stream",
     "text": [
      "Epoch 1/6\n"
     ]
    },
    {
     "name": "stderr",
     "output_type": "stream",
     "text": [
      "2022-05-02 15:18:19.472881: I tensorflow/core/grappler/optimizers/custom_graph_optimizer_registry.cc:113] Plugin optimizer for device_type GPU is enabled.\n",
      "2022-05-02 15:18:19.697351: I tensorflow/core/grappler/optimizers/custom_graph_optimizer_registry.cc:113] Plugin optimizer for device_type GPU is enabled.\n",
      "2022-05-02 15:18:19.707666: I tensorflow/core/grappler/optimizers/custom_graph_optimizer_registry.cc:113] Plugin optimizer for device_type GPU is enabled.\n",
      "2022-05-02 15:18:20.702782: I tensorflow/core/grappler/optimizers/custom_graph_optimizer_registry.cc:113] Plugin optimizer for device_type GPU is enabled.\n",
      "2022-05-02 15:18:20.718008: I tensorflow/core/grappler/optimizers/custom_graph_optimizer_registry.cc:113] Plugin optimizer for device_type GPU is enabled.\n"
     ]
    },
    {
     "name": "stdout",
     "output_type": "stream",
     "text": [
      "289/289 [==============================] - ETA: 0s - loss: 0.3240 - accuracy: 0.8659"
     ]
    },
    {
     "name": "stderr",
     "output_type": "stream",
     "text": [
      "2022-05-02 15:18:38.617589: I tensorflow/core/grappler/optimizers/custom_graph_optimizer_registry.cc:113] Plugin optimizer for device_type GPU is enabled.\n",
      "2022-05-02 15:18:38.702618: I tensorflow/core/grappler/optimizers/custom_graph_optimizer_registry.cc:113] Plugin optimizer for device_type GPU is enabled.\n",
      "2022-05-02 15:18:38.709942: I tensorflow/core/grappler/optimizers/custom_graph_optimizer_registry.cc:113] Plugin optimizer for device_type GPU is enabled.\n"
     ]
    },
    {
     "name": "stdout",
     "output_type": "stream",
     "text": [
      "289/289 [==============================] - 22s 66ms/step - loss: 0.3240 - accuracy: 0.8659 - val_loss: 0.1663 - val_accuracy: 0.9385\n",
      "Epoch 2/6\n",
      "289/289 [==============================] - 18s 62ms/step - loss: 0.1256 - accuracy: 0.9552 - val_loss: 0.1656 - val_accuracy: 0.9359\n",
      "Epoch 3/6\n",
      "289/289 [==============================] - 18s 61ms/step - loss: 0.0571 - accuracy: 0.9802 - val_loss: 0.2211 - val_accuracy: 0.9225\n",
      "Epoch 4/6\n",
      "289/289 [==============================] - 18s 61ms/step - loss: 0.0270 - accuracy: 0.9910 - val_loss: 0.2504 - val_accuracy: 0.9329\n",
      "Epoch 5/6\n",
      "289/289 [==============================] - 17s 60ms/step - loss: 0.0140 - accuracy: 0.9958 - val_loss: 0.3173 - val_accuracy: 0.9320\n",
      "Epoch 6/6\n",
      "289/289 [==============================] - 18s 61ms/step - loss: 0.0052 - accuracy: 0.9984 - val_loss: 0.3579 - val_accuracy: 0.9220\n"
     ]
    },
    {
     "data": {
      "text/plain": [
       "<keras.callbacks.History at 0x2c1c3a2b0>"
      ]
     },
     "execution_count": 10,
     "metadata": {},
     "output_type": "execute_result"
    }
   ],
   "source": [
    "model.fit(X_train, y_train, shuffle=True, validation_data=(X_test, y_test), epochs=6, batch_size=32)\n",
    "#model.save_weights(checkpoint_path)"
   ]
  },
  {
   "cell_type": "code",
   "execution_count": 11,
   "id": "7cf2fbeb",
   "metadata": {},
   "outputs": [
    {
     "name": "stdout",
     "output_type": "stream",
     "text": [
      "Accuracy: 92.20%\n"
     ]
    }
   ],
   "source": [
    "scores = model.evaluate(X_test, y_test, verbose=0)\n",
    "print(\"Accuracy: %.2f%%\" % (scores[1]*100))"
   ]
  },
  {
   "cell_type": "code",
   "execution_count": 12,
   "id": "0a8d2494",
   "metadata": {},
   "outputs": [
    {
     "name": "stderr",
     "output_type": "stream",
     "text": [
      "2022-05-02 15:20:44.519134: I tensorflow/core/grappler/optimizers/custom_graph_optimizer_registry.cc:113] Plugin optimizer for device_type GPU is enabled.\n",
      "2022-05-02 15:20:44.598154: I tensorflow/core/grappler/optimizers/custom_graph_optimizer_registry.cc:113] Plugin optimizer for device_type GPU is enabled.\n",
      "2022-05-02 15:20:44.611023: I tensorflow/core/grappler/optimizers/custom_graph_optimizer_registry.cc:113] Plugin optimizer for device_type GPU is enabled.\n"
     ]
    },
    {
     "name": "stdout",
     "output_type": "stream",
     "text": [
      "[[0.99947685]]\n",
      "[[0.80145144]]\n",
      "[[8.222269e-05]]\n",
      "[[0.9998634]]\n"
     ]
    }
   ],
   "source": [
    "tweet = \"I am so happy and joyful after that flight\"\n",
    "tweet = tokenizer.texts_to_sequences([tweet])\n",
    "tweet = sequence.pad_sequences(tweet, maxlen=150)\n",
    "print(model.predict(tweet))\n",
    "\n",
    "tweet = \"I hate this movie\"\n",
    "tweet = tokenizer.texts_to_sequences([tweet])\n",
    "tweet = sequence.pad_sequences(tweet, maxlen=150)\n",
    "print(model.predict(tweet))\n",
    "\n",
    "tweet = \"That flight was terrible\"\n",
    "tweet = tokenizer.texts_to_sequences([tweet])\n",
    "tweet = sequence.pad_sequences(tweet, maxlen=150)\n",
    "print(model.predict(tweet))\n",
    "\n",
    "tweet = \"I had a great time\"\n",
    "tweet = tokenizer.texts_to_sequences([tweet])\n",
    "tweet = sequence.pad_sequences(tweet, maxlen=150)\n",
    "print(model.predict(tweet))"
   ]
  },
  {
   "cell_type": "code",
   "execution_count": null,
   "id": "5afb3e3e",
   "metadata": {},
   "outputs": [],
   "source": []
  }
 ],
 "metadata": {
  "kernelspec": {
   "display_name": "Python 3 (ipykernel)",
   "language": "python",
   "name": "python3"
  },
  "language_info": {
   "codemirror_mode": {
    "name": "ipython",
    "version": 3
   },
   "file_extension": ".py",
   "mimetype": "text/x-python",
   "name": "python",
   "nbconvert_exporter": "python",
   "pygments_lexer": "ipython3",
   "version": "3.9.7"
  }
 },
 "nbformat": 4,
 "nbformat_minor": 5
}
